{
 "cells": [
  {
   "cell_type": "code",
   "execution_count": 93,
   "metadata": {
    "collapsed": false
   },
   "outputs": [
    {
     "name": "stdout",
     "output_type": "stream",
     "text": [
      "[1] \"Minimum GPA: 3.06\"\n",
      "[1] \"Min Years of Work Experienc: 1\"\n",
      "[1] \"Maximum GPA: 4\"\n",
      "[1] \"Max Years of Work Experienc: 6\"\n",
      "[1] \"Median GPA is: 3.5\"\n",
      "[1] \"Median of Years of work experience : 2.5 2\"\n",
      "[1] \"Average GPA is: 3.51\"\n",
      "[1] \"Average of Years of work experience 2.81\"\n",
      "[1] \"Mode of Salary: 60000\"\n",
      "[1] \"Percentage of Coop :  29.41 %\"\n",
      "[1] \"Percentage of Non coop: 70.59 %\"\n",
      "[1] \"Number of columns with Linkedin contacts greater than 500: 10\"\n",
      "[1] \"Inter Quartile Range of Expected Salary Range: 10000\"\n"
     ]
    }
   ],
   "source": [
    "file <- read.csv(\"C:/Users/priya/Desktop/ClassData.csv\")\n",
    "#file\n",
    "\n",
    "#min gpa\n",
    "minGPA <- min(file[\"GPA\"])\n",
    "print(paste(\"Minimum GPA:\",minGPA))\n",
    "\n",
    "#min YearofWorkex\n",
    "minYearsOfWorkExperience <- min(file$Years.of.work.experience)\n",
    "print(paste(\"Min Years of Work Experienc:\", minYearsOfWorkExperience))\n",
    "\n",
    "#max gpa\n",
    "maxGPA <- max(file$GPA)\n",
    "print(paste(\"Maximum GPA:\",maxGPA))\n",
    "\n",
    "#max Year of work ex\n",
    "maxYearsOfWorkExperience <- max(file$Years.of.work.experience)\n",
    "print(paste(\"Max Years of Work Experienc:\", maxYearsOfWorkExperience))\n",
    "\n",
    "#median of gpa\n",
    "medianGPA <- median(file$GPA)\n",
    "print(paste(\"Median GPA is:\", medianGPA))\n",
    "\n",
    "#median Years of work ex\n",
    "medianYears <- median(file$Years.of.work.experience)\n",
    "print(paste(\"Median of Years of work experience :\", medianYears,2))\n",
    "\n",
    "\n",
    "#avg of gpa\n",
    "avgGPA <- mean(file$GPA)\n",
    "print(paste(\"Average GPA is:\", round(avgGPA,2)))\n",
    "\n",
    "#avg Years of work ex\n",
    "avgYears <- mean(file$Years.of.work.experience)\n",
    "print(paste(\"Average of Years of work experience\", round(avgYears,2)))\n",
    "\n",
    "\n",
    "#mode : \n",
    "mode <- function(x) {\n",
    "   uniqvalue <- unique(x)\n",
    "   uniqvalue[which.max(tabulate(match(x, uniqvalue)))]\n",
    "}\n",
    "modeSalary <- mode(file$Latest.salary..per.year)\n",
    "print(paste(\"Mode of Salary:\",modeSalary))\n",
    "\n",
    "\n",
    "\n",
    "#Percentage of coop and non coop    \n",
    "percentage <-  function(colum)\n",
    "    {\n",
    "  total <- round(prop.table(table(column))*100,2)\n",
    "}\n",
    "\n",
    "column <- file$Coops.Internships..YN.\n",
    "p <- percentage(column)\n",
    "print(paste(\"Percentage of Coop : \",p[1],\"%\"))\n",
    "print(paste(\"Percentage of Non coop:\",p[2],\"%\"))\n",
    "\n",
    "help(filter)\n",
    "\n",
    "# students with more than 500 linked in contacts\n",
    "\n",
    "f <- nrow(file[file$Number.of.contacts.on.Linkedin > 500,])\n",
    "print(paste(\"Number of columns with Linkedin contacts greater than 500:\" ,f))\n",
    "\n",
    "#Interquartile range for expected salary\n",
    "iqrange <- IQR(file$Expected.Salary.after.graduation)\n",
    "print(paste(\"Inter Quartile Range of Expected Salary Range:\",iqrange))\n"
   ]
  },
  {
   "cell_type": "code",
   "execution_count": null,
   "metadata": {
    "collapsed": true
   },
   "outputs": [],
   "source": [
    "    "
   ]
  },
  {
   "cell_type": "code",
   "execution_count": null,
   "metadata": {
    "collapsed": true
   },
   "outputs": [],
   "source": []
  }
 ],
 "metadata": {
  "kernelspec": {
   "display_name": "R",
   "language": "R",
   "name": "ir"
  },
  "language_info": {
   "codemirror_mode": "r",
   "file_extension": ".r",
   "mimetype": "text/x-r-source",
   "name": "R",
   "pygments_lexer": "r",
   "version": "3.3.2"
  }
 },
 "nbformat": 4,
 "nbformat_minor": 2
}
