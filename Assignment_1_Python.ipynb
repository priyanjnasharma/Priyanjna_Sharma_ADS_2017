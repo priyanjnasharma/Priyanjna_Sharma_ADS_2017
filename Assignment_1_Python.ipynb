{
 "cells": [
  {
   "cell_type": "code",
   "execution_count": 98,
   "metadata": {
    "collapsed": false
   },
   "outputs": [
    {
     "name": "stdout",
     "output_type": "stream",
     "text": [
      "Min GPA is : 3.06\n",
      "Min Number of Years of work ex : 1.0\n",
      "Max GPA is : 4.0\n",
      "Max Number of Years of work ex : 6.0\n",
      "Average GPA is : 3.51\n",
      "Average Number of Years of work ex : 2.81\n",
      "Median GPA is : 3.5\n",
      "Median Number of Years of work ex : 2.5\n",
      "Mode of Salary : 60000\n",
      "Percentage of students having Coop is 70.59\n",
      "Percentage of students not having Coop is 29.41\n",
      "Number of Students having linkedin contacts > 500 : 10\n",
      "Inter Quartile Range for Expected salary after graduation: 10000.0\n"
     ]
    }
   ],
   "source": [
    "import pandas as pd\n",
    "file = pd.read_csv(\"C:/Users/priya/Desktop/ClassData.csv\")\n",
    "file\n",
    "\n",
    "#min gpa\n",
    "print(\"Min GPA is :\",file[\"GPA\"].min())\n",
    "\n",
    "#min years of exp\n",
    "print(\"Min Number of Years of work ex :\", file[\"Years of work experience\"].min())\n",
    "\n",
    "#max gpa\n",
    "print(\"Max GPA is :\",file[\"GPA\"].max())\n",
    "\n",
    "#max years of exp\n",
    "print(\"Max Number of Years of work ex :\", file[\"Years of work experience\"].max())\n",
    "\n",
    "#avg gpa\n",
    "print(\"Average GPA is :\",file[\"GPA\"].mean().round(2))\n",
    "\n",
    "#min years of exp\n",
    "print(\"Average Number of Years of work ex :\", file[\"Years of work experience\"].mean().round(2))\n",
    "\n",
    "#median gpa\n",
    "print(\"Median GPA is :\",file[\"GPA\"].median())\n",
    "\n",
    "#median years of exp\n",
    "print(\"Median Number of Years of work ex :\", file[\"Years of work experience\"].median())\n",
    "\n",
    "#mode Salary\n",
    "print(\"Mode of Salary :\",file[\"Latest salary (per year)\"].mode()[0])\n",
    "\n",
    "#percentage having coop                                        \n",
    "print(\"Percentage of students having Coop is\",(len(file.groupby(file[\"Coops/Internships (YN)\"]).groups[\"Y\"])/file[\"Coops/Internships (YN)\"].count()*100).round(2))                                           \n",
    "\n",
    "#percentage not having                                        \n",
    "print(\"Percentage of students not having Coop is\",(len(file.groupby(file[\"Coops/Internships (YN)\"]).groups[\"N\"])/file[\"Coops/Internships (YN)\"].count()*100).round(2))                                           \n",
    "\n",
    "#number of students having linked contacts greater than 500\n",
    "print(\"Number of Students having linkedin contacts > 500 :\",file[\"Number of contacts on Linkedin\"][file[\"Number of contacts on Linkedin\"]>500].count())\n",
    "     \n",
    "#IQR of  expected salary\n",
    "q1 = file[\"Expected Salary after graduation\"].quantile(0.25)\n",
    "q3 = file[\"Expected Salary after graduation\"].quantile(0.75)\n",
    "print(\"Inter Quartile Range for Expected salary after graduation:\", q3-q1)"
   ]
  },
  {
   "cell_type": "code",
   "execution_count": null,
   "metadata": {
    "collapsed": true
   },
   "outputs": [],
   "source": []
  }
 ],
 "metadata": {
  "kernelspec": {
   "display_name": "Python 3",
   "language": "python",
   "name": "python3"
  },
  "language_info": {
   "codemirror_mode": {
    "name": "ipython",
    "version": 3
   },
   "file_extension": ".py",
   "mimetype": "text/x-python",
   "name": "python",
   "nbconvert_exporter": "python",
   "pygments_lexer": "ipython3",
   "version": "3.5.2"
  }
 },
 "nbformat": 4,
 "nbformat_minor": 2
}
